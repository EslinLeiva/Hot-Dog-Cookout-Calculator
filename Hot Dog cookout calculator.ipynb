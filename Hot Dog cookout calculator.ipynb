{
 "cells": [
  {
   "cell_type": "code",
   "execution_count": null,
   "metadata": {},
   "outputs": [],
   "source": [
    "#Write a program that calculates the number of packages of hot dogs and the number of packages of hot dog buns needed for a cookout, with the minimum amount of leftovers.\n",
    "\n",
    "#The program should ask the user for the number of people attending the cookout and the number of hot dogs each person will be given.\n",
    "\n",
    "#Assume hot dogs come in packages of 10, and hot dog buns come in packages of 8.\n",
    "\n",
    "#The program should display the following details:\n",
    "\n",
    "#• The minimum number of packages of hot dogs required\n",
    "#• The minimum number of packages of hot dog buns required\n",
    "#• The number of hot dogs that will be left over\n",
    "#• The number of hot dog buns that will be left over"
   ]
  },
  {
   "cell_type": "code",
   "execution_count": 10,
   "metadata": {},
   "outputs": [
    {
     "name": "stdout",
     "output_type": "stream",
     "text": [
      "The amount of hotdogs packages needed for the cookout are 2.0 \n",
      "You will need 2.5 bun packages for the cookout \n",
      "There will be 0 hot dogs left over, and 4 buns left\n",
      "No worries about left overs, I will take them home and eat some later,\n",
      "There will be no  food waste in this party\n"
     ]
    }
   ],
   "source": [
    "party_size = int(input(\"What is your party size\"))\n",
    "hot_dogs_per_person = int(input(\"How many hot dogs per person would your party need\"))\n",
    "\n",
    "#hot dog package of 10\n",
    "#bun package of 8\n",
    "\n",
    "hot_dogs_package = 10\n",
    "bun_package = 8\n",
    "\n",
    "hotdogs_required = (party_size * hot_dogs_per_person) / hot_dogs_package  #package of hotdugs needed\n",
    "bun_required = (party_size * hot_dogs_per_person) / bun_package           #package of bun needed\n",
    "\n",
    "hot_dogs_left_over = (party_size * hot_dogs_per_person) % hot_dogs_package #left over hot dogs\n",
    "bun_left_over = (party_size * hot_dogs_per_person) % bun_package           #left over buns\n",
    "\n",
    "\n",
    "print(\"The amount of hotdogs packages needed for the cookout are\", hotdogs_required, '\\n' \n",
    "\"You will need\" , bun_required, \"bun packages for the cookout\", \"\\n\"\n",
    "\"There will be\", hot_dogs_left_over, \"hot dogs left over, and\", bun_left_over, \"buns left\")\n",
    "\n",
    "print(\"No worries about left overs, I will take them home and eat some later,\" '\\n'\n",
    "\"There will be no food waste in this party\")\n"
   ]
  }
 ],
 "metadata": {
  "kernelspec": {
   "display_name": "Python 3.9.7 ('base')",
   "language": "python",
   "name": "python3"
  },
  "language_info": {
   "codemirror_mode": {
    "name": "ipython",
    "version": 3
   },
   "file_extension": ".py",
   "mimetype": "text/x-python",
   "name": "python",
   "nbconvert_exporter": "python",
   "pygments_lexer": "ipython3",
   "version": "3.9.7"
  },
  "orig_nbformat": 4,
  "vscode": {
   "interpreter": {
    "hash": "7e22136019ad3cc21914fc1e69fbdecf01aa702ccce5e0696df07dfa08e0c67d"
   }
  }
 },
 "nbformat": 4,
 "nbformat_minor": 2
}
